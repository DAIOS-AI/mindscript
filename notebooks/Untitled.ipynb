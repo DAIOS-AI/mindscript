{
 "cells": [
  {
   "cell_type": "code",
   "execution_count": 5,
   "id": "29edc4ac-bed3-42cf-9c89-e7921700ad2e",
   "metadata": {},
   "outputs": [
    {
     "name": "stdout",
     "output_type": "stream",
     "text": [
      "<class 'str'> <class 'type'> <class 'type'> <class 'type'>\n"
     ]
    }
   ],
   "source": [
    "import typing\n",
    "\n",
    "t1 = str\n",
    "t2 = type(t1)\n",
    "t3 = type(t2)\n",
    "t4 = type(t3)\n",
    "\n",
    "print(t1, t2, t3, t4)"
   ]
  },
  {
   "cell_type": "code",
   "execution_count": null,
   "id": "e93a254f-42cb-4f12-8bf6-9cdaaff83bd7",
   "metadata": {},
   "outputs": [],
   "source": []
  }
 ],
 "metadata": {
  "kernelspec": {
   "display_name": "Python 3 (ipykernel)",
   "language": "python",
   "name": "python3"
  },
  "language_info": {
   "codemirror_mode": {
    "name": "ipython",
    "version": 3
   },
   "file_extension": ".py",
   "mimetype": "text/x-python",
   "name": "python",
   "nbconvert_exporter": "python",
   "pygments_lexer": "ipython3",
   "version": "3.9.18"
  }
 },
 "nbformat": 4,
 "nbformat_minor": 5
}
