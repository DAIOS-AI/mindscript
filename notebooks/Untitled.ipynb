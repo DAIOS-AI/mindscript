{
 "cells": [
  {
   "cell_type": "code",
   "execution_count": 5,
   "id": "29edc4ac-bed3-42cf-9c89-e7921700ad2e",
   "metadata": {},
   "outputs": [
    {
     "name": "stdout",
     "output_type": "stream",
     "text": [
      "<class 'str'> <class 'type'> <class 'type'> <class 'type'>\n"
     ]
    }
   ],
   "source": [
    "import typing\n",
    "\n",
    "t1 = str\n",
    "t2 = type(t1)\n",
    "t3 = type(t2)\n",
    "t4 = type(t3)\n",
    "\n",
    "print(t1, t2, t3, t4)"
   ]
  },
  {
   "cell_type": "code",
   "execution_count": 9,
   "id": "e93a254f-42cb-4f12-8bf6-9cdaaff83bd7",
   "metadata": {},
   "outputs": [],
   "source": [
    "import requests\n",
    "import dotenv"
   ]
  },
  {
   "cell_type": "code",
   "execution_count": 13,
   "id": "53075889-989e-46c4-bca1-80098ff6ca62",
   "metadata": {},
   "outputs": [],
   "source": [
    "TEXTSYNTH_API_KEY=\"4c36c751932c639a10bbf98660a98aa5\"\n",
    "\n",
    "response = requests.post(\n",
    "  \"https://api.textsynth.com/v1/engines/mixtral_47B_instruct/completions\",\n",
    "  headers = {\"Authorization\": f\"Bearer {TEXTSYNTH_API_KEY}\"},\n",
    "  json={\"prompt\": \"hello, world!\"}\n",
    ")"
   ]
  },
  {
   "cell_type": "code",
   "execution_count": 15,
   "id": "0d3149c3-e669-4c7a-a68e-efcffb779535",
   "metadata": {},
   "outputs": [
    {
     "data": {
      "text/plain": [
       "{'text': \"')\\n```\\n\\n## Answer (0)\\n\\nIts `def` not `fun`\\n\\n```\\n>>> def f(x):\\n  ...     return 3*x + 1\\n  ...\\n>>> f(1)\\n4\\n>>>\\n```\\n\\nComment: Thanks. I didn't notice that I typed 'fun' in the post but I wrote 'def' in the command line.\\n\\n## Answer (-1)\\n\",\n",
       " 'reached_end': True,\n",
       " 'finish_reason': 'length',\n",
       " 'input_tokens': 4,\n",
       " 'output_tokens': 100}"
      ]
     },
     "execution_count": 15,
     "metadata": {},
     "output_type": "execute_result"
    }
   ],
   "source": [
    "response.json()"
   ]
  },
  {
   "cell_type": "code",
   "execution_count": 16,
   "id": "dc44b865-e6f2-428a-9f02-e34de656b668",
   "metadata": {},
   "outputs": [
    {
     "name": "stdout",
     "output_type": "stream",
     "text": [
      "{'name': 'pedro'}\n"
     ]
    }
   ],
   "source": [
    "print({\"name\": \"pedro\"})"
   ]
  },
  {
   "cell_type": "code",
   "execution_count": 26,
   "id": "28ef247a-775d-48cf-8b59-f208834d02a4",
   "metadata": {},
   "outputs": [],
   "source": [
    "from pydantic import BaseModel\n",
    "\n",
    "class Node2(BaseModel):\n",
    "  number: int\n",
    "  node: 'Node2'\n",
    "  "
   ]
  },
  {
   "cell_type": "code",
   "execution_count": 27,
   "id": "7068cc17-0072-4c33-b974-65087afb5670",
   "metadata": {},
   "outputs": [
    {
     "data": {
      "text/plain": [
       "{'$ref': '#/definitions/Node2',\n",
       " 'definitions': {'Node2': {'title': 'Node2',\n",
       "   'type': 'object',\n",
       "   'properties': {'number': {'title': 'Number', 'type': 'integer'},\n",
       "    'node': {'$ref': '#/definitions/Node2'}},\n",
       "   'required': ['number', 'node']}}}"
      ]
     },
     "execution_count": 27,
     "metadata": {},
     "output_type": "execute_result"
    }
   ],
   "source": [
    "Node2.schema()"
   ]
  },
  {
   "cell_type": "code",
   "execution_count": 31,
   "id": "3dd0882c-8327-4519-80fd-17ef6280f790",
   "metadata": {},
   "outputs": [
    {
     "data": {
      "text/plain": [
       "True"
      ]
     },
     "execution_count": 31,
     "metadata": {},
     "output_type": "execute_result"
    }
   ],
   "source": [
    "name = \"pedro\"\n",
    "{\"name\": name, \"age\": 45} == {\"name\": \"pedro\", \"age\": 45}\n"
   ]
  },
  {
   "cell_type": "code",
   "execution_count": 32,
   "id": "73a7b8c3-2b5f-4f12-95de-5f722b4901e4",
   "metadata": {},
   "outputs": [
    {
     "data": {
      "text/plain": [
       "128581305232496"
      ]
     },
     "execution_count": 32,
     "metadata": {},
     "output_type": "execute_result"
    }
   ],
   "source": [
    "id(name)"
   ]
  },
  {
   "cell_type": "code",
   "execution_count": 34,
   "id": "d102ce1d-1c1b-409c-ab27-4af9eef3af20",
   "metadata": {},
   "outputs": [
    {
     "data": {
      "text/plain": [
       "'0x74f1ab05ec70'"
      ]
     },
     "execution_count": 34,
     "metadata": {},
     "output_type": "execute_result"
    }
   ],
   "source": [
    "hex(id(name))"
   ]
  },
  {
   "cell_type": "code",
   "execution_count": 42,
   "id": "dcf8dfab-acd1-48fe-a1de-c7f96ae2dfa6",
   "metadata": {},
   "outputs": [],
   "source": [
    "value = \"Hello world!\\nI love this\\tand this \\u03A8!\""
   ]
  },
  {
   "cell_type": "code",
   "execution_count": 43,
   "id": "8ac08fb0-7bae-44b8-8ec4-f64edb7e1f69",
   "metadata": {},
   "outputs": [
    {
     "name": "stdout",
     "output_type": "stream",
     "text": [
      "Hello world!\n",
      "I love this\tand this Ψ!\n",
      "'Hello world!\\nI love this\\tand this Ψ!'\n"
     ]
    }
   ],
   "source": [
    "print(value)\n",
    "print(repr(value))"
   ]
  },
  {
   "cell_type": "code",
   "execution_count": 1,
   "id": "2c48d14d-592a-4b16-a969-fc93fd858661",
   "metadata": {},
   "outputs": [
    {
     "ename": "NameError",
     "evalue": "name 'typeof' is not defined",
     "output_type": "error",
     "traceback": [
      "\u001b[0;31m---------------------------------------------------------------------------\u001b[0m",
      "\u001b[0;31mNameError\u001b[0m                                 Traceback (most recent call last)",
      "Cell \u001b[0;32mIn[1], line 2\u001b[0m\n\u001b[1;32m      1\u001b[0m c \u001b[38;5;241m=\u001b[39m \u001b[38;5;241m1024\u001b[39m\n\u001b[0;32m----> 2\u001b[0m \u001b[43mtypeof\u001b[49m([Int, Int])\n",
      "\u001b[0;31mNameError\u001b[0m: name 'typeof' is not defined"
     ]
    }
   ],
   "source": [
    "c = 1024\n",
    "typeof([Int, Int])"
   ]
  },
  {
   "cell_type": "code",
   "execution_count": 4,
   "id": "632c8f9e-5fb6-4579-9aaa-5d2a34ad99cf",
   "metadata": {},
   "outputs": [],
   "source": [
    "f = lambda x: x + 3\n"
   ]
  },
  {
   "cell_type": "code",
   "execution_count": 7,
   "id": "7676bb9f-12ad-4dc8-a545-6a0ea240c6de",
   "metadata": {},
   "outputs": [
    {
     "name": "stdout",
     "output_type": "stream",
     "text": [
      "<function <lambda> at 0x78d8bd2a4160>\n"
     ]
    }
   ],
   "source": [
    "print(f)"
   ]
  },
  {
   "cell_type": "code",
   "execution_count": 8,
   "id": "091ab43b-b3b6-47ea-a8ce-fd67db3b5fe6",
   "metadata": {},
   "outputs": [],
   "source": [
    "def f(x): return x"
   ]
  },
  {
   "cell_type": "code",
   "execution_count": 9,
   "id": "8a96ceb0-fc95-4761-9328-71bb957b9d7d",
   "metadata": {},
   "outputs": [
    {
     "name": "stdout",
     "output_type": "stream",
     "text": [
      "<function f at 0x78d8bd2a44c0>\n"
     ]
    }
   ],
   "source": [
    "print(f)"
   ]
  },
  {
   "cell_type": "code",
   "execution_count": 10,
   "id": "392cd30b-6669-4bf2-ac0d-7a65b86f6296",
   "metadata": {},
   "outputs": [
    {
     "data": {
      "text/plain": [
       "<function __main__.f(x)>"
      ]
     },
     "execution_count": 10,
     "metadata": {},
     "output_type": "execute_result"
    }
   ],
   "source": [
    "f"
   ]
  },
  {
   "cell_type": "code",
   "execution_count": 14,
   "id": "0c24a0d5-ce00-4cbe-8a13-ec1c2496ff6e",
   "metadata": {},
   "outputs": [
    {
     "data": {
      "text/plain": [
       "<__main__.Val at 0x78d8cc2b9d90>"
      ]
     },
     "execution_count": 14,
     "metadata": {},
     "output_type": "execute_result"
    }
   ],
   "source": [
    "class Val:\n",
    "  def __init__(self, value):\n",
    "    self.value = value\n",
    "\n",
    "class Bool(Val):\n",
    "  pass\n",
    "\n",
    "myval = Val(5)\n",
    "myval"
   ]
  },
  {
   "cell_type": "code",
   "execution_count": 16,
   "id": "f7741191-cc0f-4b9e-b002-591d2a1f2025",
   "metadata": {},
   "outputs": [],
   "source": [
    "mybool = Bool(True)"
   ]
  },
  {
   "cell_type": "code",
   "execution_count": 17,
   "id": "53dcb6b6-b709-4b5c-b860-5c2c08494d1c",
   "metadata": {},
   "outputs": [
    {
     "data": {
      "text/plain": [
       "True"
      ]
     },
     "execution_count": 17,
     "metadata": {},
     "output_type": "execute_result"
    }
   ],
   "source": [
    "mybool.value"
   ]
  },
  {
   "cell_type": "code",
   "execution_count": null,
   "id": "9e728694-6b4c-409f-b5be-8b5792391aa4",
   "metadata": {},
   "outputs": [],
   "source": []
  }
 ],
 "metadata": {
  "kernelspec": {
   "display_name": "Python 3 (ipykernel)",
   "language": "python",
   "name": "python3"
  },
  "language_info": {
   "codemirror_mode": {
    "name": "ipython",
    "version": 3
   },
   "file_extension": ".py",
   "mimetype": "text/x-python",
   "name": "python",
   "nbconvert_exporter": "python",
   "pygments_lexer": "ipython3",
   "version": "3.9.18"
  }
 },
 "nbformat": 4,
 "nbformat_minor": 5
}
