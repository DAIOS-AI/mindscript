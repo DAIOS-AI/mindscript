{
 "cells": [
  {
   "cell_type": "code",
   "execution_count": 5,
   "id": "29edc4ac-bed3-42cf-9c89-e7921700ad2e",
   "metadata": {},
   "outputs": [
    {
     "name": "stdout",
     "output_type": "stream",
     "text": [
      "<class 'str'> <class 'type'> <class 'type'> <class 'type'>\n"
     ]
    }
   ],
   "source": [
    "import typing\n",
    "\n",
    "t1 = str\n",
    "t2 = type(t1)\n",
    "t3 = type(t2)\n",
    "t4 = type(t3)\n",
    "\n",
    "print(t1, t2, t3, t4)"
   ]
  },
  {
   "cell_type": "code",
   "execution_count": 9,
   "id": "e93a254f-42cb-4f12-8bf6-9cdaaff83bd7",
   "metadata": {},
   "outputs": [],
   "source": [
    "import requests\n",
    "import dotenv"
   ]
  },
  {
   "cell_type": "code",
   "execution_count": 13,
   "id": "53075889-989e-46c4-bca1-80098ff6ca62",
   "metadata": {},
   "outputs": [],
   "source": [
    "TEXTSYNTH_API_KEY=\"4c36c751932c639a10bbf98660a98aa5\"\n",
    "\n",
    "response = requests.post(\n",
    "  \"https://api.textsynth.com/v1/engines/mixtral_47B_instruct/completions\",\n",
    "  headers = {\"Authorization\": f\"Bearer {TEXTSYNTH_API_KEY}\"},\n",
    "  json={\"prompt\": \"hello, world!\"}\n",
    ")"
   ]
  },
  {
   "cell_type": "code",
   "execution_count": 15,
   "id": "0d3149c3-e669-4c7a-a68e-efcffb779535",
   "metadata": {},
   "outputs": [
    {
     "data": {
      "text/plain": [
       "{'text': \"')\\n```\\n\\n## Answer (0)\\n\\nIts `def` not `fun`\\n\\n```\\n>>> def f(x):\\n  ...     return 3*x + 1\\n  ...\\n>>> f(1)\\n4\\n>>>\\n```\\n\\nComment: Thanks. I didn't notice that I typed 'fun' in the post but I wrote 'def' in the command line.\\n\\n## Answer (-1)\\n\",\n",
       " 'reached_end': True,\n",
       " 'finish_reason': 'length',\n",
       " 'input_tokens': 4,\n",
       " 'output_tokens': 100}"
      ]
     },
     "execution_count": 15,
     "metadata": {},
     "output_type": "execute_result"
    }
   ],
   "source": [
    "response.json()"
   ]
  },
  {
   "cell_type": "code",
   "execution_count": 16,
   "id": "dc44b865-e6f2-428a-9f02-e34de656b668",
   "metadata": {},
   "outputs": [
    {
     "name": "stdout",
     "output_type": "stream",
     "text": [
      "{'name': 'pedro'}\n"
     ]
    }
   ],
   "source": [
    "print({\"name\": \"pedro\"})"
   ]
  },
  {
   "cell_type": "code",
   "execution_count": 26,
   "id": "28ef247a-775d-48cf-8b59-f208834d02a4",
   "metadata": {},
   "outputs": [],
   "source": [
    "from pydantic import BaseModel\n",
    "\n",
    "class Node2(BaseModel):\n",
    "  number: int\n",
    "  node: 'Node2'\n",
    "  "
   ]
  },
  {
   "cell_type": "code",
   "execution_count": 27,
   "id": "7068cc17-0072-4c33-b974-65087afb5670",
   "metadata": {},
   "outputs": [
    {
     "data": {
      "text/plain": [
       "{'$ref': '#/definitions/Node2',\n",
       " 'definitions': {'Node2': {'title': 'Node2',\n",
       "   'type': 'object',\n",
       "   'properties': {'number': {'title': 'Number', 'type': 'integer'},\n",
       "    'node': {'$ref': '#/definitions/Node2'}},\n",
       "   'required': ['number', 'node']}}}"
      ]
     },
     "execution_count": 27,
     "metadata": {},
     "output_type": "execute_result"
    }
   ],
   "source": [
    "Node2.schema()"
   ]
  },
  {
   "cell_type": "code",
   "execution_count": 31,
   "id": "3dd0882c-8327-4519-80fd-17ef6280f790",
   "metadata": {},
   "outputs": [
    {
     "data": {
      "text/plain": [
       "True"
      ]
     },
     "execution_count": 31,
     "metadata": {},
     "output_type": "execute_result"
    }
   ],
   "source": [
    "name = \"pedro\"\n",
    "{\"name\": name, \"age\": 45} == {\"name\": \"pedro\", \"age\": 45}\n"
   ]
  },
  {
   "cell_type": "code",
   "execution_count": null,
   "id": "73a7b8c3-2b5f-4f12-95de-5f722b4901e4",
   "metadata": {},
   "outputs": [],
   "source": []
  }
 ],
 "metadata": {
  "kernelspec": {
   "display_name": "Python 3 (ipykernel)",
   "language": "python",
   "name": "python3"
  },
  "language_info": {
   "codemirror_mode": {
    "name": "ipython",
    "version": 3
   },
   "file_extension": ".py",
   "mimetype": "text/x-python",
   "name": "python",
   "nbconvert_exporter": "python",
   "pygments_lexer": "ipython3",
   "version": "3.9.18"
  }
 },
 "nbformat": 4,
 "nbformat_minor": 5
}
